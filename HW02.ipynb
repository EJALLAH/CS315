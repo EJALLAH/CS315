{
  "cells": [
    {
      "cell_type": "markdown",
      "metadata": {
        "id": "view-in-github",
        "colab_type": "text"
      },
      "source": [
        "<a href=\"https://colab.research.google.com/github/EJALLAH/CS315/blob/main/HW02.ipynb\" target=\"_parent\"><img src=\"https://colab.research.google.com/assets/colab-badge.svg\" alt=\"Open In Colab\"/></a>"
      ]
    },
    {
      "cell_type": "code",
      "source": [
        "n = int(input(\"Enter a number: \"))\n",
        "sum_of_numbers = n * n\n",
        "print(f\"The LHS is: {n} and its square is: {sum_of_numbers}\")"
      ],
      "metadata": {
        "id": "iqrqna6zY1ef",
        "outputId": "50919722-7d2d-46ff-e4b8-ddb29f34484b",
        "colab": {
          "base_uri": "https://localhost:8080/"
        }
      },
      "execution_count": 5,
      "outputs": [
        {
          "output_type": "stream",
          "name": "stdout",
          "text": [
            "Enter a number: 2\n",
            "The LHS is: 2 and its square is: 4\n"
          ]
        }
      ]
    },
    {
      "cell_type": "code",
      "source": [
        "N = int(input(\"Enter the # of days: \"))\n",
        "\n",
        "total_gifts = (n * (n + 1) * (N + 2)) // 6\n",
        "\n",
        "print(\"the total # of gifts\", n, \"date: \", total_gifts)"
      ],
      "metadata": {
        "id": "fNQ9gKOLZu48"
      },
      "execution_count": null,
      "outputs": []
    }
  ],
  "metadata": {
    "colab": {
      "name": "Welcome To Colab",
      "provenance": [],
      "include_colab_link": true
    },
    "kernelspec": {
      "display_name": "Python 3",
      "name": "python3"
    }
  },
  "nbformat": 4,
  "nbformat_minor": 0
}
{
  "nbformat": 4,
  "nbformat_minor": 0,
  "metadata": {
    "colab": {
      "provenance": [],
      "include_colab_link": true
    },
    "kernelspec": {
      "name": "python3",
      "display_name": "Python 3"
    },
    "language_info": {
      "name": "python"
    }
  },
  "cells": [
    {
      "cell_type": "markdown",
      "metadata": {
        "id": "view-in-github",
        "colab_type": "text"
      },
      "source": [
        "<a href=\"https://colab.research.google.com/github/EJALLAH/CS315/blob/main/piMonteCarlo-initial.ipynb\" target=\"_parent\"><img src=\"https://colab.research.google.com/assets/colab-badge.svg\" alt=\"Open In Colab\"/></a>"
      ]
    },
    {
      "cell_type": "code",
      "source": [
        "from itertools import permutations\n",
        "# giving everyone a tasks to complete for secret santa\n",
        "def sercet_santa(people, combinations):\n",
        "    given_assignments =[]\n",
        "    for assignment in permutations(people):\n",
        "        is_permiisable = True\n",
        "        for i, giver in enumerate(people):\n",
        "            getter = assignment[i]\n",
        "            if (giver, getter) in combinations:\n",
        "                is_permiisable = False\n",
        "                break\n",
        "        if is_permiisable:\n",
        "          given_assignments.append(list(assignment))\n",
        "    return given_assignments\n",
        "\n",
        "# The amount of people that is particiapting in this fun activity.\n",
        "    people = [\"Eric\", \"Kruse\", \"Daniel\", \"Cole\"]\n",
        "    combinations = [(\"Eric\", \"Kruse\"), (\"Cole\", \"Daniel\")]\n",
        "\n",
        "    given_assignments = sercet_santa(people, combinations)\n",
        "\n",
        "    with open(\"secret_santa_assignments.txt\", \"w\") as f:\n",
        "        for assignment in given_assignments:\n",
        "            f.write(str(assignment) + \"\\n\")\n",
        "\n",
        "    print(f\"Given Secret Santa assignments go to secret_santa_assignments.txt\")\n",
        "\n"
      ],
      "metadata": {
        "id": "QpBM5SerPyju"
      },
      "execution_count": null,
      "outputs": []
    },
    {
      "cell_type": "code",
      "metadata": {
        "colab": {
          "base_uri": "https://localhost:8080/"
        },
        "id": "75aef816",
        "outputId": "706d858c-782f-46d8-87b0-022028dfa0df"
      },
      "source": [
        "%%writefile multiply.cpp\n",
        "#include <iostream>\n",
        "\n",
        "int main() {\n",
        "    int num1, num2;\n",
        "    int product = 0;\n",
        "// The value of the first integer\n",
        "    std::cout << \"Enter the first positive integer: \";\n",
        "    std::cin >> num1;\n",
        "// The value of the second integer\n",
        "    std::cout << \"Enter the second positive integer: \";\n",
        "    std::cin >> num2;\n",
        "\n",
        "    if (num1 < 0 || num2 < 0) {\n",
        "        std::cout << \"enter positive integers.\" << std::endl;\n",
        "        return 1; // Indicate an error\n",
        "    }\n",
        "\n",
        "    for (int i = 0; i < num2; ++i) {\n",
        "        product += num1;\n",
        "    }\n",
        "\n",
        "    std::cout << \"The product is: \" << product << std::endl;\n",
        "\n",
        "    return 0; // success\n",
        "}"
      ],
      "execution_count": null,
      "outputs": [
        {
          "output_type": "stream",
          "name": "stdout",
          "text": [
            "Overwriting multiply.cpp\n"
          ]
        }
      ]
    }
  ]
}
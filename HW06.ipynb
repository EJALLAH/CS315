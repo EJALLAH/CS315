{
  "nbformat": 4,
  "nbformat_minor": 0,
  "metadata": {
    "colab": {
      "provenance": [],
      "authorship_tag": "ABX9TyPKirjor9Ksj4mn3bBxhqHH",
      "include_colab_link": true
    },
    "kernelspec": {
      "name": "python3",
      "display_name": "Python 3"
    },
    "language_info": {
      "name": "python"
    }
  },
  "cells": [
    {
      "cell_type": "markdown",
      "metadata": {
        "id": "view-in-github",
        "colab_type": "text"
      },
      "source": [
        "<a href=\"https://colab.research.google.com/github/EJALLAH/CS315/blob/main/HW06.ipynb\" target=\"_parent\"><img src=\"https://colab.research.google.com/assets/colab-badge.svg\" alt=\"Open In Colab\"/></a>"
      ]
    },
    {
      "cell_type": "code",
      "source": [
        "import random\n",
        "def quickselect(A, i):\n",
        "  if len(A) == 1:\n",
        "    return A[0]\n",
        "  pivot = random.choice(A)\n",
        "  lows = [x for x in A if x < pivot]\n",
        "  highs = [x for x in A if x > pivot]\n",
        "  pivots = [x for x in A if x == pivot]\n",
        "  if i <= len(lows):\n",
        "      return quickselect(lows, i)\n",
        "  elif i <= len(lows) + len(pivots):\n",
        "    return pivot\n",
        "  else:\n",
        "    return quickselect(highs, i - len(lows) - len(pivots))"
      ],
      "metadata": {
        "id": "OU8dYuVZtRXd"
      },
      "execution_count": 9,
      "outputs": []
    },
    {
      "cell_type": "code",
      "metadata": {
        "colab": {
          "base_uri": "https://localhost:8080/"
        },
        "id": "b655f396",
        "outputId": "3337e95e-da45-4c2c-c6ed-631539f74676"
      },
      "source": [
        "import numpy as np\n",
        "\n",
        "array_sizes = [100, 1000, 10000]\n",
        "test_arrays = {}\n",
        "\n",
        "for size in array_sizes:\n",
        "    # Sorted array\n",
        "    sorted_array = np.arange(size)\n",
        "    test_arrays[f'size_{size}_sorted'] = sorted_array\n",
        "\n",
        "    # Reversed sorted array\n",
        "    reversed_array = np.arange(size)[::-1]\n",
        "    test_arrays[f'size_{size}_reversed'] = reversed_array\n",
        "\n",
        "    # Randomly ordered array\n",
        "    random_array = (np.random.rand(size) * size).astype(int)\n",
        "    test_arrays[f'size_{size}_random'] = random_array\n",
        "\n",
        "# Display a few arrays\n",
        "print(\"Generated Arrays:\")\n",
        "for key, value in list(test_arrays.items())[:3]:\n",
        "    print(f\"{key}: {value[:10]}...\")"
      ],
      "execution_count": 10,
      "outputs": [
        {
          "output_type": "stream",
          "name": "stdout",
          "text": [
            "Generated Arrays:\n",
            "size_100_sorted: [0 1 2 3 4 5 6 7 8 9]...\n",
            "size_100_reversed: [99 98 97 96 95 94 93 92 91 90]...\n",
            "size_100_random: [29 59 81 89 44 37 11 41 94 72]...\n"
          ]
        }
      ]
    }
  ]
}